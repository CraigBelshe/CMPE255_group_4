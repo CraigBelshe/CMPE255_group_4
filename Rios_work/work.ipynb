{
 "cells": [
  {
   "cell_type": "code",
   "execution_count": 29,
   "metadata": {},
   "outputs": [
    {
     "name": "stdout",
     "output_type": "stream",
     "text": [
      "The autoreload extension is already loaded. To reload it, use:\n",
      "  %reload_ext autoreload\n"
     ]
    }
   ],
   "source": [
    "%load_ext autoreload\n",
    "%autoreload 2"
   ]
  },
  {
   "cell_type": "code",
   "execution_count": 36,
   "metadata": {},
   "outputs": [],
   "source": [
    "import pandas as pd\n",
    "import numpy as np\n",
    "import prince\n",
    "from sklearn.preprocessing import OrdinalEncoder\n",
    "from sklearn.model_selection import train_test_split\n",
    "import sys\n",
    "sys.path.append('../data/')"
   ]
  },
  {
   "cell_type": "code",
   "execution_count": 75,
   "metadata": {},
   "outputs": [
    {
     "name": "stdout",
     "output_type": "stream",
     "text": [
      "   AAGE ACLSWKR  ADTINK  ADTOCC  AHGA AHSCOL AMARITL AMJIND AMJOCC ARACE  ...  \\\n",
      "0    73     3.0       0       0  12.0    2.0     6.0   14.0    6.0   4.0  ...   \n",
      "1    58     6.0       4      34  16.0    2.0     0.0    4.0    8.0   4.0  ...   \n",
      "2    18     3.0       0       0   0.0    1.0     4.0   14.0    6.0   1.0  ...   \n",
      "3     9     3.0       0       0  10.0    2.0     4.0   14.0    6.0   4.0  ...   \n",
      "4    10     3.0       0       0  10.0    2.0     4.0   14.0    6.0   4.0  ...   \n",
      "\n",
      "  PEFNTVTY PEMNTVTY PENATVTY PRCITSHP SEOTR  VETQVA  VETYN  WKSWORK AHRSPAY  \\\n",
      "0     39.0     39.0     39.0      4.0     0     1.0      2        0       0   \n",
      "1     39.0     39.0     39.0      4.0     0     1.0      2       52       0   \n",
      "2     40.0     40.0     40.0      0.0     0     1.0      2        0       0   \n",
      "3     39.0     39.0     39.0      4.0     0     1.0      0        0       0   \n",
      "4     39.0     39.0     39.0      4.0     0     1.0      0        0       0   \n",
      "\n",
      "  year  \n",
      "0    1  \n",
      "1    0  \n",
      "2    1  \n",
      "3    0  \n",
      "4    0  \n",
      "\n",
      "[5 rows x 41 columns]\n",
      "   income\n",
      "0  -50000\n",
      "1  -50000\n",
      "2  -50000\n",
      "3  -50000\n",
      "4  -50000\n"
     ]
    }
   ],
   "source": [
    "from load_data import load_ucimlrepo\n",
    "\n",
    "features, targets = load_ucimlrepo(ordinal=True)\n",
    "print(features.head())\n",
    "print(targets.head())\n",
    "X, Y = load_ucimlrepo(ordinal=False)\n"
   ]
  },
  {
   "cell_type": "code",
   "execution_count": 82,
   "metadata": {},
   "outputs": [
    {
     "name": "stderr",
     "output_type": "stream",
     "text": [
      "C:\\Users\\nicor\\AppData\\Local\\Temp\\ipykernel_45488\\2985701398.py:1: FutureWarning: DataFrame.fillna with 'method' is deprecated and will raise in a future version. Use obj.ffill() or obj.bfill() instead.\n",
      "  features = features.fillna(method='ffill',axis=1)\n",
      "C:\\Users\\nicor\\AppData\\Local\\Temp\\ipykernel_45488\\2985701398.py:1: FutureWarning: Downcasting object dtype arrays on .fillna, .ffill, .bfill is deprecated and will change in a future version. Call result.infer_objects(copy=False) instead. To opt-in to the future behavior, set `pd.set_option('future.no_silent_downcasting', True)`\n",
      "  features = features.fillna(method='ffill',axis=1)\n"
     ]
    },
    {
     "name": "stdout",
     "output_type": "stream",
     "text": [
      "False\n"
     ]
    }
   ],
   "source": [
    "features = features.fillna(method='ffill',axis=1)\n",
    "# X = X.fillna(method='bfill',axis=1)\n",
    "Xtrain, Xtest, Ytrain, Ytest = train_test_split(features, targets, test_size=0.3, random_state=17)\n",
    "print(Xtrain.isnull().values.any())"
   ]
  },
  {
   "cell_type": "code",
   "execution_count": 32,
   "metadata": {},
   "outputs": [
    {
     "name": "stdout",
     "output_type": "stream",
     "text": [
      "2\n",
      "income    12382\n",
      "dtype: int64\n",
      "Index(['AAGE', 'ACLSWKR', 'ADTINK', 'ADTOCC', 'AHGA', 'AHSCOL', 'AMARITL',\n",
      "       'AMJIND', 'AMJOCC', 'ARACE', 'AREORGN', 'ASEX', 'AUNMEM', 'AUNTYPE',\n",
      "       'AWKSTAT', 'CAPGAIN', 'GAPLOSS', 'DIVVAL', 'FILESTAT', 'GRINREG',\n",
      "       'GRINST', 'HHDFMX', 'HHDREL', 'MARSUPWRT', 'MIGMTR1', 'MIGMTR3',\n",
      "       'MIGMTR4', 'MIGSAME', 'MIGSUN', 'NOEMP', 'PARENT', 'PEFNTVTY',\n",
      "       'PEMNTVTY', 'PENATVTY', 'PRCITSHP', 'SEOTR', 'VETQVA', 'VETYN',\n",
      "       'WKSWORK', 'AHRSPAY', 'year'],\n",
      "      dtype='object')\n"
     ]
    },
    {
     "data": {
      "text/plain": [
       "array([[18.,  3.,  0., ...,  0.,  0.,  1.],\n",
       "       [ 9.,  3.,  0., ...,  0.,  0.,  0.],\n",
       "       [10.,  3.,  0., ...,  0.,  0.,  0.],\n",
       "       ...,\n",
       "       [47.,  3.,  0., ..., 52.,  0.,  1.],\n",
       "       [16.,  3.,  0., ...,  0.,  0.,  1.],\n",
       "       [32.,  4., 42., ..., 52.,  0.,  0.]])"
      ]
     },
     "execution_count": 32,
     "metadata": {},
     "output_type": "execute_result"
    }
   ],
   "source": [
    "prepro = features.copy()\n",
    "print(targets['income'].nunique())\n",
    "print(targets[targets['income'] == ' 50000+.'].count())\n",
    "print(features.columns)\n",
    "# for col in features.columns:\n",
    "    # print(col,'\\t',features[col].dttargetspe)\n",
    "\n",
    "enc1 = OrdinalEncoder()\n",
    "test = enc1.fit_transform(features[2:])\n",
    "test\n",
    "\n",
    "\n"
   ]
  },
  {
   "cell_type": "code",
   "execution_count": 33,
   "metadata": {},
   "outputs": [
    {
     "name": "stdout",
     "output_type": "stream",
     "text": [
      "0         3.0\n",
      "1         6.0\n",
      "2         3.0\n",
      "3         3.0\n",
      "4         3.0\n",
      "         ... \n",
      "199518    3.0\n",
      "199519    5.0\n",
      "199520    3.0\n",
      "199521    3.0\n",
      "199522    4.0\n",
      "Name: ACLSWKR, Length: 199523, dtype: object\n",
      "0         3.0\n",
      "1         6.0\n",
      "2         3.0\n",
      "3         3.0\n",
      "4         3.0\n",
      "         ... \n",
      "199518    3.0\n",
      "199519    5.0\n",
      "199520    3.0\n",
      "199521    3.0\n",
      "199522    4.0\n",
      "Name: ACLSWKR, Length: 199523, dtype: object\n"
     ]
    }
   ],
   "source": [
    "# print(targets['income'].dttargetspe)\n",
    "enc = OrdinalEncoder()\n",
    "print(prepro['ACLSWKR'])\n",
    "prepro.loc[:,'ACLSWKR'] = enc.fit_transform(prepro[['ACLSWKR']])\n",
    "print(prepro['ACLSWKR'])"
   ]
  },
  {
   "cell_type": "code",
   "execution_count": 35,
   "metadata": {},
   "outputs": [],
   "source": [
    "famd = prince.FAMD(n_components=20, n_iter=20,random_state=17)\n",
    "famd = famd.fit(features)\n",
    "f2 = prince.FAMD(n_components=20,n_iter=20,random_state=17)\n",
    "f2 = f2.fit(X)\n"
   ]
  },
  {
   "cell_type": "code",
   "execution_count": 63,
   "metadata": {},
   "outputs": [
    {
     "name": "stderr",
     "output_type": "stream",
     "text": [
      "C:\\Users\\nicor\\AppData\\Local\\Packages\\PythonSoftwareFoundation.Python.3.12_qbz5n2kfra8p0\\LocalCache\\local-packages\\Python312\\site-packages\\sklearn\\utils\\validation.py:1339: DataConversionWarning: A column-vector y was passed when a 1d array was expected. Please change the shape of y to (n_samples, ), for example using ravel().\n",
      "  y = column_or_1d(y, warn=True)\n"
     ]
    },
    {
     "name": "stdout",
     "output_type": "stream",
     "text": [
      "For iter count 200, accuracy is 0.9571144561204203\n"
     ]
    }
   ],
   "source": [
    "from sklearn.ensemble import HistGradientBoostingClassifier, AdaBoostClassifier\n",
    "from sklearn.metrics import f1_score, accuracy_score\n",
    "iter = 200\n",
    "model = HistGradientBoostingClassifier(max_iter=iter,random_state=17)\n",
    "model.fit(Xtrain, Ytrain)\n",
    "Ypred = model.predict(Xtest)\n",
    "acc = accuracy_score(Ytest, Ypred)\n",
    "print(\"For iter count {}, accuracy is {}\".format(iter,acc))"
   ]
  },
  {
   "cell_type": "code",
   "execution_count": 90,
   "metadata": {},
   "outputs": [
    {
     "name": "stdout",
     "output_type": "stream",
     "text": [
      "(139666, 41)\n"
     ]
    }
   ],
   "source": [
    "print(Xtrain.shape)"
   ]
  },
  {
   "cell_type": "code",
   "execution_count": 93,
   "metadata": {},
   "outputs": [
    {
     "name": "stderr",
     "output_type": "stream",
     "text": [
      "C:\\Users\\nicor\\AppData\\Local\\Packages\\PythonSoftwareFoundation.Python.3.12_qbz5n2kfra8p0\\LocalCache\\local-packages\\Python312\\site-packages\\sklearn\\utils\\validation.py:1339: DataConversionWarning: A column-vector y was passed when a 1d array was expected. Please change the shape of y to (n_samples, ), for example using ravel().\n",
      "  y = column_or_1d(y, warn=True)\n"
     ]
    }
   ],
   "source": [
    "from functools import partial\n",
    "\n",
    "score = partial(f1_score,average='macro')\n",
    "model = AdaBoostClassifier(estimator=HistGradientBoostingClassifier(max_iter=200),n_estimators=200,algorithm='SAMME')\n",
    "model.fit(Xtrain, Ytrain)\n",
    "Ypred = model.predict(Xtest)\n"
   ]
  },
  {
   "cell_type": "code",
   "execution_count": null,
   "metadata": {},
   "outputs": [
    {
     "name": "stdout",
     "output_type": "stream",
     "text": [
      "0.7701138892077367\n"
     ]
    }
   ],
   "source": [
    "\n",
    "print(score(Ypred,Ytest))\n",
    "model.score()\n"
   ]
  },
  {
   "cell_type": "code",
   "execution_count": 112,
   "metadata": {},
   "outputs": [
    {
     "name": "stderr",
     "output_type": "stream",
     "text": [
      "c:\\Users\\nicor\\OneDrive\\Documents\\SJSU\\CMPE255\\group proj\\CMPE255_group_4\\Rios_work\\../data\\load_data.py:57: ParserWarning: Falling back to the 'python' engine because the 'c' engine does not support regex separators (separators > 1 char and different from '\\s+' are interpreted as regex); you can avoid this warning by specifying engine='python'.\n",
      "  df_names = pd.read_csv(labels_path, skiprows=23, nrows=44,header=None,sep=\"\\t+\",names=[\"feature\",'shortname'])\n"
     ]
    },
    {
     "data": {
      "text/html": [
       "<div>\n",
       "<style scoped>\n",
       "    .dataframe tbody tr th:only-of-type {\n",
       "        vertical-align: middle;\n",
       "    }\n",
       "\n",
       "    .dataframe tbody tr th {\n",
       "        vertical-align: top;\n",
       "    }\n",
       "\n",
       "    .dataframe thead th {\n",
       "        text-align: right;\n",
       "    }\n",
       "</style>\n",
       "<table border=\"1\" class=\"dataframe\">\n",
       "  <thead>\n",
       "    <tr style=\"text-align: right;\">\n",
       "      <th></th>\n",
       "      <th>| age</th>\n",
       "      <th>| class of worker</th>\n",
       "      <th>| industry code</th>\n",
       "      <th>| occupation code</th>\n",
       "      <th>| education</th>\n",
       "      <th>| wage per hour</th>\n",
       "      <th>| enrolled in edu inst last wk</th>\n",
       "      <th>| marital status</th>\n",
       "      <th>| major industry code</th>\n",
       "      <th>| major occupation code</th>\n",
       "      <th>| race</th>\n",
       "      <th>| hispanic Origin</th>\n",
       "      <th>| sex</th>\n",
       "      <th>| member of a labor union</th>\n",
       "      <th>| reason for unemployment</th>\n",
       "      <th>| full or part time employment stat</th>\n",
       "      <th>| capital gains</th>\n",
       "      <th>| capital losses</th>\n",
       "      <th>| divdends from stocks</th>\n",
       "      <th>| tax filer status</th>\n",
       "      <th>| region of previous residence</th>\n",
       "      <th>| state of previous residence</th>\n",
       "      <th>| detailed household and family stat</th>\n",
       "      <th>| detailed household summary in household</th>\n",
       "      <th>| instance weight</th>\n",
       "      <th>| migration code-change in msa</th>\n",
       "      <th>| migration code-change in reg</th>\n",
       "      <th>| migration code-move within reg</th>\n",
       "      <th>| live in this house 1 year ago</th>\n",
       "      <th>| migration prev res in sunbelt</th>\n",
       "      <th>| num persons worked for employer</th>\n",
       "      <th>| family members under 18</th>\n",
       "      <th>| total person earnings</th>\n",
       "      <th>| country of birth father</th>\n",
       "      <th>| country of birth mother</th>\n",
       "      <th>| country of birth self</th>\n",
       "      <th>| citizenship</th>\n",
       "      <th>| total person income</th>\n",
       "      <th>| own business or self employed</th>\n",
       "      <th>| taxable income amount</th>\n",
       "      <th>| fill inc questionnaire for veteran's admin</th>\n",
       "      <th>| veterans benefits</th>\n",
       "    </tr>\n",
       "  </thead>\n",
       "  <tbody>\n",
       "    <tr>\n",
       "      <th>0</th>\n",
       "      <td>73</td>\n",
       "      <td>Not in universe</td>\n",
       "      <td>0</td>\n",
       "      <td>0</td>\n",
       "      <td>High school graduate</td>\n",
       "      <td>0</td>\n",
       "      <td>Not in universe</td>\n",
       "      <td>Widowed</td>\n",
       "      <td>Not in universe or children</td>\n",
       "      <td>Not in universe</td>\n",
       "      <td>White</td>\n",
       "      <td>All other</td>\n",
       "      <td>Female</td>\n",
       "      <td>Not in universe</td>\n",
       "      <td>Not in universe</td>\n",
       "      <td>Not in labor force</td>\n",
       "      <td>0</td>\n",
       "      <td>0</td>\n",
       "      <td>0</td>\n",
       "      <td>Nonfiler</td>\n",
       "      <td>Not in universe</td>\n",
       "      <td>Not in universe</td>\n",
       "      <td>Other Rel 18+ ever marr not in subfamily</td>\n",
       "      <td>Other relative of householder</td>\n",
       "      <td>1700.09</td>\n",
       "      <td>?</td>\n",
       "      <td>?</td>\n",
       "      <td>?</td>\n",
       "      <td>Not in universe under 1 year old</td>\n",
       "      <td>?</td>\n",
       "      <td>0</td>\n",
       "      <td>Not in universe</td>\n",
       "      <td>United-States</td>\n",
       "      <td>United-States</td>\n",
       "      <td>United-States</td>\n",
       "      <td>Native- Born in the United States</td>\n",
       "      <td>0</td>\n",
       "      <td>Not in universe</td>\n",
       "      <td>2</td>\n",
       "      <td>0</td>\n",
       "      <td>95</td>\n",
       "      <td>- 50000.</td>\n",
       "    </tr>\n",
       "  </tbody>\n",
       "</table>\n",
       "</div>"
      ],
      "text/plain": [
       "   | age | class of worker  | industry code  | occupation code  \\\n",
       "0     73   Not in universe                0                  0   \n",
       "\n",
       "             | education  | wage per hour | enrolled in edu inst last wk  \\\n",
       "0   High school graduate                0                Not in universe   \n",
       "\n",
       "  | marital status         | major industry code | major occupation code  \\\n",
       "0          Widowed   Not in universe or children         Not in universe   \n",
       "\n",
       "   | race | hispanic Origin    | sex | member of a labor union  \\\n",
       "0   White         All other   Female           Not in universe   \n",
       "\n",
       "  | reason for unemployment | full or part time employment stat  \\\n",
       "0           Not in universe                  Not in labor force   \n",
       "\n",
       "   | capital gains  | capital losses  | divdends from stocks  \\\n",
       "0                0                 0                       0   \n",
       "\n",
       "  | tax filer status | region of previous residence  \\\n",
       "0           Nonfiler                Not in universe   \n",
       "\n",
       "  | state of previous residence       | detailed household and family stat  \\\n",
       "0               Not in universe   Other Rel 18+ ever marr not in subfamily   \n",
       "\n",
       "  | detailed household summary in household  | instance weight  \\\n",
       "0             Other relative of householder            1700.09   \n",
       "\n",
       "  | migration code-change in msa | migration code-change in reg  \\\n",
       "0                              ?                              ?   \n",
       "\n",
       "  | migration code-move within reg    | live in this house 1 year ago  \\\n",
       "0                                ?   Not in universe under 1 year old   \n",
       "\n",
       "  | migration prev res in sunbelt  | num persons worked for employer  \\\n",
       "0                               ?                                  0   \n",
       "\n",
       "  | family members under 18 | total person earnings | country of birth father  \\\n",
       "0           Not in universe           United-States             United-States   \n",
       "\n",
       "  | country of birth mother             | country of birth self  \\\n",
       "0             United-States   Native- Born in the United States   \n",
       "\n",
       "   | citizenship | total person income  | own business or self employed  \\\n",
       "0              0       Not in universe                                2   \n",
       "\n",
       "   | taxable income amount  | fill inc questionnaire for veteran's admin  \\\n",
       "0                        0                                            95   \n",
       "\n",
       "  | veterans benefits  \n",
       "0            - 50000.  "
      ]
     },
     "execution_count": 112,
     "metadata": {},
     "output_type": "execute_result"
    }
   ],
   "source": [
    "from load_data import load_feature_names\n",
    "df_names = load_feature_names('../data/census-income.names')\n",
    "\n",
    "df = pd.read_csv('../data/census-income.data', names=df_names['feature'])\n",
    "pd.set_option('display.max_columns',50)\n",
    "df.head(1)\n"
   ]
  },
  {
   "cell_type": "code",
   "execution_count": 113,
   "metadata": {},
   "outputs": [
    {
     "data": {
      "text/html": [
       "<div>\n",
       "<style scoped>\n",
       "    .dataframe tbody tr th:only-of-type {\n",
       "        vertical-align: middle;\n",
       "    }\n",
       "\n",
       "    .dataframe tbody tr th {\n",
       "        vertical-align: top;\n",
       "    }\n",
       "\n",
       "    .dataframe thead th {\n",
       "        text-align: right;\n",
       "    }\n",
       "</style>\n",
       "<table border=\"1\" class=\"dataframe\">\n",
       "  <thead>\n",
       "    <tr style=\"text-align: right;\">\n",
       "      <th></th>\n",
       "      <th>AAGE</th>\n",
       "      <th>ACLSWKR</th>\n",
       "      <th>ADTINK</th>\n",
       "      <th>ADTOCC</th>\n",
       "      <th>AHGA</th>\n",
       "      <th>AHSCOL</th>\n",
       "      <th>AMARITL</th>\n",
       "      <th>AMJIND</th>\n",
       "      <th>AMJOCC</th>\n",
       "      <th>ARACE</th>\n",
       "      <th>AREORGN</th>\n",
       "      <th>ASEX</th>\n",
       "      <th>AUNMEM</th>\n",
       "      <th>AUNTYPE</th>\n",
       "      <th>AWKSTAT</th>\n",
       "      <th>CAPGAIN</th>\n",
       "      <th>GAPLOSS</th>\n",
       "      <th>DIVVAL</th>\n",
       "      <th>FILESTAT</th>\n",
       "      <th>GRINREG</th>\n",
       "      <th>GRINST</th>\n",
       "      <th>HHDFMX</th>\n",
       "      <th>HHDREL</th>\n",
       "      <th>MARSUPWRT</th>\n",
       "      <th>MIGMTR1</th>\n",
       "      <th>MIGMTR3</th>\n",
       "      <th>MIGMTR4</th>\n",
       "      <th>MIGSAME</th>\n",
       "      <th>MIGSUN</th>\n",
       "      <th>NOEMP</th>\n",
       "      <th>PARENT</th>\n",
       "      <th>PEFNTVTY</th>\n",
       "      <th>PEMNTVTY</th>\n",
       "      <th>PENATVTY</th>\n",
       "      <th>PRCITSHP</th>\n",
       "      <th>SEOTR</th>\n",
       "      <th>VETQVA</th>\n",
       "      <th>VETYN</th>\n",
       "      <th>WKSWORK</th>\n",
       "      <th>AHRSPAY</th>\n",
       "      <th>year</th>\n",
       "    </tr>\n",
       "  </thead>\n",
       "  <tbody>\n",
       "    <tr>\n",
       "      <th>0</th>\n",
       "      <td>73</td>\n",
       "      <td>Not in universe</td>\n",
       "      <td>0</td>\n",
       "      <td>0</td>\n",
       "      <td>High school graduate</td>\n",
       "      <td>Not in universe</td>\n",
       "      <td>Widowed</td>\n",
       "      <td>Not in universe or children</td>\n",
       "      <td>Not in universe</td>\n",
       "      <td>White</td>\n",
       "      <td>All other</td>\n",
       "      <td>Female</td>\n",
       "      <td>Not in universe</td>\n",
       "      <td>Not in universe</td>\n",
       "      <td>Not in labor force</td>\n",
       "      <td>0</td>\n",
       "      <td>0</td>\n",
       "      <td>0</td>\n",
       "      <td>Nonfiler</td>\n",
       "      <td>Not in universe</td>\n",
       "      <td>Not in universe</td>\n",
       "      <td>Other Rel 18+ ever marr not in subfamily</td>\n",
       "      <td>Other relative of householder</td>\n",
       "      <td>1700.09</td>\n",
       "      <td>1700.09</td>\n",
       "      <td>1700.09</td>\n",
       "      <td>1700.09</td>\n",
       "      <td>Not in universe under 1 year old</td>\n",
       "      <td>Not in universe under 1 year old</td>\n",
       "      <td>0</td>\n",
       "      <td>Not in universe</td>\n",
       "      <td>United-States</td>\n",
       "      <td>United-States</td>\n",
       "      <td>United-States</td>\n",
       "      <td>Native- Born in the United States</td>\n",
       "      <td>0</td>\n",
       "      <td>Not in universe</td>\n",
       "      <td>2</td>\n",
       "      <td>0</td>\n",
       "      <td>0</td>\n",
       "      <td>95</td>\n",
       "    </tr>\n",
       "  </tbody>\n",
       "</table>\n",
       "</div>"
      ],
      "text/plain": [
       "   AAGE           ACLSWKR  ADTINK  ADTOCC                   AHGA  \\\n",
       "0    73   Not in universe       0       0   High school graduate   \n",
       "\n",
       "             AHSCOL   AMARITL                        AMJIND            AMJOCC  \\\n",
       "0   Not in universe   Widowed   Not in universe or children   Not in universe   \n",
       "\n",
       "    ARACE     AREORGN     ASEX            AUNMEM           AUNTYPE  \\\n",
       "0   White   All other   Female   Not in universe   Not in universe   \n",
       "\n",
       "               AWKSTAT  CAPGAIN  GAPLOSS  DIVVAL   FILESTAT           GRINREG  \\\n",
       "0   Not in labor force        0        0       0   Nonfiler   Not in universe   \n",
       "\n",
       "             GRINST                                     HHDFMX  \\\n",
       "0   Not in universe   Other Rel 18+ ever marr not in subfamily   \n",
       "\n",
       "                           HHDREL  MARSUPWRT  MIGMTR1  MIGMTR3  MIGMTR4  \\\n",
       "0   Other relative of householder    1700.09  1700.09  1700.09  1700.09   \n",
       "\n",
       "                             MIGSAME                             MIGSUN  \\\n",
       "0   Not in universe under 1 year old   Not in universe under 1 year old   \n",
       "\n",
       "   NOEMP            PARENT        PEFNTVTY        PEMNTVTY        PENATVTY  \\\n",
       "0      0   Not in universe   United-States   United-States   United-States   \n",
       "\n",
       "                             PRCITSHP  SEOTR            VETQVA  VETYN  \\\n",
       "0   Native- Born in the United States      0   Not in universe      2   \n",
       "\n",
       "   WKSWORK  AHRSPAY  year  \n",
       "0        0        0    95  "
      ]
     },
     "execution_count": 113,
     "metadata": {},
     "output_type": "execute_result"
    }
   ],
   "source": [
    "X.head(1)"
   ]
  },
  {
   "cell_type": "code",
   "execution_count": null,
   "metadata": {},
   "outputs": [],
   "source": []
  }
 ],
 "metadata": {
  "kernelspec": {
   "display_name": "Python 3",
   "language": "python",
   "name": "python3"
  },
  "language_info": {
   "codemirror_mode": {
    "name": "ipython",
    "version": 3
   },
   "file_extension": ".py",
   "mimetype": "text/x-python",
   "name": "python",
   "nbconvert_exporter": "python",
   "pygments_lexer": "ipython3",
   "version": "3.12.7"
  }
 },
 "nbformat": 4,
 "nbformat_minor": 2
}
