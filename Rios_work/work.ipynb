{
 "cells": [
  {
   "cell_type": "code",
   "execution_count": 17,
   "metadata": {},
   "outputs": [],
   "source": [
    "import pandas as pd\n",
    "import numpy as np\n",
    "import mca\n",
    "from sklearn.preprocessing import OrdinalEncoder\n",
    "import sys\n",
    "sys.path.append('../data/')"
   ]
  },
  {
   "cell_type": "code",
   "execution_count": 15,
   "metadata": {},
   "outputs": [],
   "source": [
    "from load_data import load_ucimlrepo\n",
    "data = load_ucimlrepo()\n",
    "\n",
    "X = data.data.features\n",
    "Y = data.data.targets"
   ]
  },
  {
   "cell_type": "code",
   "execution_count": 31,
   "metadata": {},
   "outputs": [
    {
     "name": "stdout",
     "output_type": "stream",
     "text": [
      "['-50000' ' 50000+.']\n",
      "income    12382\n",
      "dtype: int64\n"
     ]
    }
   ],
   "source": [
    "print(Y['income'].unique())\n",
    "print(Y[Y['income'] == ' 50000+.'].count())"
   ]
  },
  {
   "cell_type": "code",
   "execution_count": 33,
   "metadata": {},
   "outputs": [
    {
     "name": "stdout",
     "output_type": "stream",
     "text": [
      "OrdinalEncoder()\n"
     ]
    },
    {
     "data": {
      "text/plain": [
       "[array([' 50000+.', '-50000'], dtype=object)]"
      ]
     },
     "execution_count": 33,
     "metadata": {},
     "output_type": "execute_result"
    }
   ],
   "source": [
    "ordenc = OrdinalEncoder()\n",
    "print(ordenc.fit(Y))\n",
    "\n",
    "ordenc.categories_"
   ]
  },
  {
   "cell_type": "code",
   "execution_count": 3,
   "metadata": {},
   "outputs": [
    {
     "name": "stderr",
     "output_type": "stream",
     "text": [
      "<>:16: SyntaxWarning: invalid escape sequence '\\|'\n",
      "<>:16: SyntaxWarning: invalid escape sequence '\\|'\n",
      "C:\\Users\\nicor\\AppData\\Local\\Temp\\ipykernel_30036\\3970114160.py:16: SyntaxWarning: invalid escape sequence '\\|'\n",
      "  names = df_names['feature'].str.split(\"\\| \", expand=True).loc[:,1]\n"
     ]
    }
   ],
   "source": [
    "# def parsefile(filename, dtype):\n",
    "#     with open(filename, 'r') as file:\n",
    "#         data = np.loadtxt(file,dtype=dtype)\n",
    "\n",
    "#     return data\n",
    "\n",
    "# def parse_args():\n",
    "#     parser = argparse.ArgumentParser()\n",
    "\n",
    "\n",
    "def parse(filename):\n",
    "    data = pd.read_csv(filename,sep=\",\",header=None,)\n",
    "    return data\n",
    "\n",
    "df_names = pd.read_csv('../data/census-income.names', skiprows=23, nrows=44,header=None,sep=\"\\t\",names=[\"feature\",'code1','code2','code3','code4','code5','code6'])\n",
    "names = df_names['feature'].str.split(\"\\| \", expand=True).loc[:,1]\n",
    "df = pd.read_csv('../data/census-income.data',delimiter=\",\", header=None, names=names)"
   ]
  },
  {
   "cell_type": "code",
   "execution_count": 4,
   "metadata": {},
   "outputs": [
    {
     "data": {
      "text/html": [
       "<div>\n",
       "<style scoped>\n",
       "    .dataframe tbody tr th:only-of-type {\n",
       "        vertical-align: middle;\n",
       "    }\n",
       "\n",
       "    .dataframe tbody tr th {\n",
       "        vertical-align: top;\n",
       "    }\n",
       "\n",
       "    .dataframe thead th {\n",
       "        text-align: right;\n",
       "    }\n",
       "</style>\n",
       "<table border=\"1\" class=\"dataframe\">\n",
       "  <thead>\n",
       "    <tr style=\"text-align: right;\">\n",
       "      <th></th>\n",
       "      <th>age</th>\n",
       "      <th>class of worker</th>\n",
       "      <th>industry code</th>\n",
       "      <th>occupation code</th>\n",
       "      <th>adjusted gross income</th>\n",
       "      <th>education</th>\n",
       "      <th>wage per hour</th>\n",
       "      <th>enrolled in edu inst last wk</th>\n",
       "      <th>marital status</th>\n",
       "      <th>major industry code</th>\n",
       "      <th>...</th>\n",
       "      <th>total person earnings</th>\n",
       "      <th>country of birth father</th>\n",
       "      <th>country of birth mother</th>\n",
       "      <th>country of birth self</th>\n",
       "      <th>citizenship</th>\n",
       "      <th>total person income</th>\n",
       "      <th>own business or self employed</th>\n",
       "      <th>taxable income amount</th>\n",
       "      <th>fill inc questionnaire for veteran's admin</th>\n",
       "      <th>veterans benefits</th>\n",
       "    </tr>\n",
       "  </thead>\n",
       "  <tbody>\n",
       "    <tr>\n",
       "      <th>0</th>\n",
       "      <td>73</td>\n",
       "      <td>Not in universe</td>\n",
       "      <td>0</td>\n",
       "      <td>0</td>\n",
       "      <td>High school graduate</td>\n",
       "      <td>0</td>\n",
       "      <td>Not in universe</td>\n",
       "      <td>Widowed</td>\n",
       "      <td>Not in universe or children</td>\n",
       "      <td>Not in universe</td>\n",
       "      <td>...</td>\n",
       "      <td>United-States</td>\n",
       "      <td>Native- Born in the United States</td>\n",
       "      <td>0</td>\n",
       "      <td>Not in universe</td>\n",
       "      <td>2</td>\n",
       "      <td>0</td>\n",
       "      <td>95</td>\n",
       "      <td>- 50000.</td>\n",
       "      <td>NaN</td>\n",
       "      <td>NaN</td>\n",
       "    </tr>\n",
       "    <tr>\n",
       "      <th>1</th>\n",
       "      <td>58</td>\n",
       "      <td>Self-employed-not incorporated</td>\n",
       "      <td>4</td>\n",
       "      <td>34</td>\n",
       "      <td>Some college but no degree</td>\n",
       "      <td>0</td>\n",
       "      <td>Not in universe</td>\n",
       "      <td>Divorced</td>\n",
       "      <td>Construction</td>\n",
       "      <td>Precision production craft &amp; repair</td>\n",
       "      <td>...</td>\n",
       "      <td>United-States</td>\n",
       "      <td>Native- Born in the United States</td>\n",
       "      <td>0</td>\n",
       "      <td>Not in universe</td>\n",
       "      <td>2</td>\n",
       "      <td>52</td>\n",
       "      <td>94</td>\n",
       "      <td>- 50000.</td>\n",
       "      <td>NaN</td>\n",
       "      <td>NaN</td>\n",
       "    </tr>\n",
       "    <tr>\n",
       "      <th>2</th>\n",
       "      <td>18</td>\n",
       "      <td>Not in universe</td>\n",
       "      <td>0</td>\n",
       "      <td>0</td>\n",
       "      <td>10th grade</td>\n",
       "      <td>0</td>\n",
       "      <td>High school</td>\n",
       "      <td>Never married</td>\n",
       "      <td>Not in universe or children</td>\n",
       "      <td>Not in universe</td>\n",
       "      <td>...</td>\n",
       "      <td>Vietnam</td>\n",
       "      <td>Foreign born- Not a citizen of U S</td>\n",
       "      <td>0</td>\n",
       "      <td>Not in universe</td>\n",
       "      <td>2</td>\n",
       "      <td>0</td>\n",
       "      <td>95</td>\n",
       "      <td>- 50000.</td>\n",
       "      <td>NaN</td>\n",
       "      <td>NaN</td>\n",
       "    </tr>\n",
       "    <tr>\n",
       "      <th>3</th>\n",
       "      <td>9</td>\n",
       "      <td>Not in universe</td>\n",
       "      <td>0</td>\n",
       "      <td>0</td>\n",
       "      <td>Children</td>\n",
       "      <td>0</td>\n",
       "      <td>Not in universe</td>\n",
       "      <td>Never married</td>\n",
       "      <td>Not in universe or children</td>\n",
       "      <td>Not in universe</td>\n",
       "      <td>...</td>\n",
       "      <td>United-States</td>\n",
       "      <td>Native- Born in the United States</td>\n",
       "      <td>0</td>\n",
       "      <td>Not in universe</td>\n",
       "      <td>0</td>\n",
       "      <td>0</td>\n",
       "      <td>94</td>\n",
       "      <td>- 50000.</td>\n",
       "      <td>NaN</td>\n",
       "      <td>NaN</td>\n",
       "    </tr>\n",
       "    <tr>\n",
       "      <th>4</th>\n",
       "      <td>10</td>\n",
       "      <td>Not in universe</td>\n",
       "      <td>0</td>\n",
       "      <td>0</td>\n",
       "      <td>Children</td>\n",
       "      <td>0</td>\n",
       "      <td>Not in universe</td>\n",
       "      <td>Never married</td>\n",
       "      <td>Not in universe or children</td>\n",
       "      <td>Not in universe</td>\n",
       "      <td>...</td>\n",
       "      <td>United-States</td>\n",
       "      <td>Native- Born in the United States</td>\n",
       "      <td>0</td>\n",
       "      <td>Not in universe</td>\n",
       "      <td>0</td>\n",
       "      <td>0</td>\n",
       "      <td>94</td>\n",
       "      <td>- 50000.</td>\n",
       "      <td>NaN</td>\n",
       "      <td>NaN</td>\n",
       "    </tr>\n",
       "  </tbody>\n",
       "</table>\n",
       "<p>5 rows × 44 columns</p>\n",
       "</div>"
      ],
      "text/plain": [
       "   age                  class of worker  industry code  occupation code  \\\n",
       "0   73                  Not in universe              0                0   \n",
       "1   58   Self-employed-not incorporated              4               34   \n",
       "2   18                  Not in universe              0                0   \n",
       "3    9                  Not in universe              0                0   \n",
       "4   10                  Not in universe              0                0   \n",
       "\n",
       "         adjusted gross income  education     wage per hour  \\\n",
       "0         High school graduate          0   Not in universe   \n",
       "1   Some college but no degree          0   Not in universe   \n",
       "2                   10th grade          0       High school   \n",
       "3                     Children          0   Not in universe   \n",
       "4                     Children          0   Not in universe   \n",
       "\n",
       "  enrolled in edu inst last wk                marital status  \\\n",
       "0                      Widowed   Not in universe or children   \n",
       "1                     Divorced                  Construction   \n",
       "2                Never married   Not in universe or children   \n",
       "3                Never married   Not in universe or children   \n",
       "4                Never married   Not in universe or children   \n",
       "\n",
       "                    major industry code  ... total person earnings  \\\n",
       "0                       Not in universe  ...         United-States   \n",
       "1   Precision production craft & repair  ...         United-States   \n",
       "2                       Not in universe  ...               Vietnam   \n",
       "3                       Not in universe  ...         United-States   \n",
       "4                       Not in universe  ...         United-States   \n",
       "\n",
       "                country of birth father country of birth mother  \\\n",
       "0     Native- Born in the United States                       0   \n",
       "1     Native- Born in the United States                       0   \n",
       "2   Foreign born- Not a citizen of U S                        0   \n",
       "3     Native- Born in the United States                       0   \n",
       "4     Native- Born in the United States                       0   \n",
       "\n",
       "  country of birth self citizenship total person income  \\\n",
       "0       Not in universe           2                   0   \n",
       "1       Not in universe           2                  52   \n",
       "2       Not in universe           2                   0   \n",
       "3       Not in universe           0                   0   \n",
       "4       Not in universe           0                   0   \n",
       "\n",
       "   own business or self employed  taxable income amount  \\\n",
       "0                             95               - 50000.   \n",
       "1                             94               - 50000.   \n",
       "2                             95               - 50000.   \n",
       "3                             94               - 50000.   \n",
       "4                             94               - 50000.   \n",
       "\n",
       "   fill inc questionnaire for veteran's admin veterans benefits  \n",
       "0                                         NaN               NaN  \n",
       "1                                         NaN               NaN  \n",
       "2                                         NaN               NaN  \n",
       "3                                         NaN               NaN  \n",
       "4                                         NaN               NaN  \n",
       "\n",
       "[5 rows x 44 columns]"
      ]
     },
     "execution_count": 4,
     "metadata": {},
     "output_type": "execute_result"
    }
   ],
   "source": [
    "test = parse('../data/census-income.test')\n",
    "train = parse('../data/census-income.data')\n",
    "df.head()\n"
   ]
  },
  {
   "cell_type": "code",
   "execution_count": 9,
   "metadata": {},
   "outputs": [
    {
     "data": {
      "text/plain": [
       "0         3\n",
       "1         6\n",
       "2         3\n",
       "3         3\n",
       "4         3\n",
       "         ..\n",
       "199518    3\n",
       "199519    5\n",
       "199520    3\n",
       "199521    3\n",
       "199522    4\n",
       "Name: class of worker, Length: 199523, dtype: int64"
      ]
     },
     "execution_count": 9,
     "metadata": {},
     "output_type": "execute_result"
    }
   ],
   "source": [
    "le = LabelEncoder()\n",
    "df['class of worker'] = le.fit_transform(df['class of worker'])\n",
    "df['class of worker']\n",
    "# print(test.head())"
   ]
  },
  {
   "cell_type": "code",
   "execution_count": null,
   "metadata": {},
   "outputs": [],
   "source": []
  }
 ],
 "metadata": {
  "kernelspec": {
   "display_name": "Python 3",
   "language": "python",
   "name": "python3"
  },
  "language_info": {
   "codemirror_mode": {
    "name": "ipython",
    "version": 3
   },
   "file_extension": ".py",
   "mimetype": "text/x-python",
   "name": "python",
   "nbconvert_exporter": "python",
   "pygments_lexer": "ipython3",
   "version": "3.12.7"
  }
 },
 "nbformat": 4,
 "nbformat_minor": 2
}
