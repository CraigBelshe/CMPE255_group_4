{
 "cells": [
  {
   "cell_type": "code",
   "execution_count": 3,
   "id": "176dce15-c0f9-4e60-8551-f23cc784c48f",
   "metadata": {},
   "outputs": [],
   "source": [
    "import argparse\n",
    "import pandas as pd\n",
    "import sys\n",
    "import seaborn as sns\n",
    "import numpy as np\n",
    "# allow load_data funcs\n",
    "sys.path.append(\"../data/\")\n",
    "from load_data import load_ucimlrepo\n"
   ]
  },
  {
   "cell_type": "code",
   "execution_count": 5,
   "id": "51db1a15-0c64-4f5f-b01f-adf015f01a0f",
   "metadata": {},
   "outputs": [],
   "source": [
    "X,y = load_ucimlrepo(ordinal=True)\n",
    "imps = ['ADTINK', 'DIVVAL', 'ADTOCC', 'AAGE', 'AHGA', 'MARSUPWRT', 'ASEX', 'WKSWORK', 'CAPGAIN', 'AMJIND', 'NOEMP', 'AMJOCC', 'FILESTAT', 'HHDREL', 'ACLSWKR', 'HHDFMX', 'PEMNTVTY', 'SEOTR', 'AMARITL', 'GAPLOSS', 'PEFNTVTY', 'AWKSTAT', 'AHSCOL', 'AUNMEM', 'AHRSPAY', 'PENATVTY', 'ARACE', 'AREORGN', 'PARENT', 'MIGSUN', 'MIGMTR4', 'MIGSAME', 'MIGMTR1', 'MIGMTR3', 'PRCITSHP', 'year', 'GRINST', 'AUNTYPE', 'GRINREG', 'VETQVA', 'VETYN']"
   ]
  },
  {
   "cell_type": "code",
   "execution_count": null,
   "id": "0414ee45-5d00-4288-80d4-4c6b7f34375c",
   "metadata": {},
   "outputs": [],
   "source": [
    "X['label'] = y"
   ]
  },
  {
   "cell_type": "code",
   "execution_count": null,
   "id": "3ce48e36-2d54-47ce-a720-118d2ebf5d5b",
   "metadata": {},
   "outputs": [],
   "source": [
    "X.keys()"
   ]
  },
  {
   "cell_type": "code",
   "execution_count": null,
   "id": "733cfa90-80f7-429c-86c9-42b7b04f0ee3",
   "metadata": {},
   "outputs": [],
   "source": [
    "\"cont\", \"nom\",\"ord\""
   ]
  },
  {
   "cell_type": "code",
   "execution_count": 35,
   "id": "132d345a-c744-48a6-acf9-18bfab85007e",
   "metadata": {},
   "outputs": [],
   "source": [
    "cont_nom_key_map={'AAGE':\"cont\", 'ACLSWKR':\"nom\", 'ADTINK':\"nom\", 'ADTOCC':\"nom\", 'AHGA':\"nom\", 'AHSCOL':\"nom\", 'AMARITL':\"nom\",\n",
    "       'AMJIND':\"nom\", 'AMJOCC':\"nom\", 'ARACE':\"nom\", 'AREORGN':\"nom\", 'ASEX':\"nom\", 'AUNMEM':\"nom\", 'AUNTYPE':\"nom\",\n",
    "       'AWKSTAT':\"nom\", 'CAPGAIN':\"cont\", 'GAPLOSS':\"cont\", 'DIVVAL':\"cont\", 'FILESTAT':\"nom\", 'GRINREG':\"nom\",\n",
    "       'GRINST':\"nom\", 'HHDFMX':\"nom\", 'HHDREL':\"nom\", 'MARSUPWRT':\"nom\", 'MIGMTR1':\"nom\", 'MIGMTR3':\"nom\",\n",
    "       'MIGMTR4':\"nom\", 'MIGSAME':\"nom\", 'MIGSUN':\"nom\", 'NOEMP':\"cont\", 'PARENT':\"nom\", 'PEFNTVTY':\"nom\",\n",
    "       'PEMNTVTY':\"nom\", 'PENATVTY':\"nom\", 'PRCITSHP':\"nom\", 'SEOTR':\"nom\", 'VETQVA':\"nom\", 'VETYN':\"nom\",\n",
    "       'WKSWORK':\"cont\", 'AHRSPAY':\"nom\", 'year':\"nom\"}"
   ]
  },
  {
   "cell_type": "code",
   "execution_count": 29,
   "id": "370bceae-68a9-4f86-9add-a8035a4b072e",
   "metadata": {
    "scrolled": true
   },
   "outputs": [
    {
     "data": {
      "text/plain": [
       "ADTINK\n",
       "0         100684\n",
       "33         17070\n",
       "43          8283\n",
       "4           5984\n",
       "42          4683\n",
       "45          4482\n",
       "29          4209\n",
       "37          4022\n",
       "41          3964\n",
       "32          3596\n",
       "35          3380\n",
       "39          2937\n",
       "34          2765\n",
       "44          2549\n",
       "2           2196\n",
       "11          1764\n",
       "50          1704\n",
       "40          1651\n",
       "47          1644\n",
       "38          1629\n",
       "24          1503\n",
       "12          1350\n",
       "19          1346\n",
       "30          1181\n",
       "31          1178\n",
       "25          1084\n",
       "9            993\n",
       "22           952\n",
       "36           945\n",
       "13           899\n",
       "1            827\n",
       "48           652\n",
       "27           626\n",
       "49           610\n",
       "3            563\n",
       "21           559\n",
       "6            554\n",
       "5            553\n",
       "8            550\n",
       "16           539\n",
       "23           525\n",
       "18           483\n",
       "15           452\n",
       "7            422\n",
       "14           295\n",
       "46           187\n",
       "17           157\n",
       "28           143\n",
       "26           127\n",
       "51            36\n",
       "20            32\n",
       "10             4\n",
       "Name: count, dtype: int64"
      ]
     },
     "execution_count": 29,
     "metadata": {},
     "output_type": "execute_result"
    }
   ],
   "source": [
    "X[['ADTINK']].value_counts()"
   ]
  },
  {
   "cell_type": "markdown",
   "id": "7a0f0512-bdd0-4719-88e3-003b7feb652e",
   "metadata": {},
   "source": [
    "# visualization"
   ]
  },
  {
   "cell_type": "code",
   "execution_count": 13,
   "id": "eb3f384d-02a0-4c0b-9325-47c1985b6ddd",
   "metadata": {},
   "outputs": [
    {
     "data": {
      "text/plain": [
       "<seaborn.axisgrid.FacetGrid at 0x7fc047ff9450>"
      ]
     },
     "execution_count": 13,
     "metadata": {},
     "output_type": "execute_result"
    },
    {
     "data": {
      "image/png": "[encoded data removed]",
      "text/plain": [
       "<Figure size 511.111x500 with 1 Axes>"
      ]
     },
     "metadata": {},
     "output_type": "display_data"
    }
   ],
   "source": [
    "sns.catplot(X,x='ADTINK')"
   ]
  },
  {
   "cell_type": "code",
   "execution_count": null,
   "id": "53bedf60-46f2-4cb9-be92-b868d71bc92a",
   "metadata": {
    "scrolled": true
   },
   "outputs": [
    {
     "ename": "KeyboardInterrupt",
     "evalue": "",
     "output_type": "error",
     "traceback": [
      "\u001b[0;31m---------------------------------------------------------------------------\u001b[0m",
      "\u001b[0;31mKeyboardInterrupt\u001b[0m                         Traceback (most recent call last)",
      "Cell \u001b[0;32mIn[72], line 1\u001b[0m\n\u001b[0;32m----> 1\u001b[0m \u001b[43msns\u001b[49m\u001b[38;5;241;43m.\u001b[39;49m\u001b[43mcatplot\u001b[49m\u001b[43m(\u001b[49m\u001b[43mX\u001b[49m\u001b[43m,\u001b[49m\u001b[43mx\u001b[49m\u001b[38;5;241;43m=\u001b[39;49m\u001b[38;5;124;43m\"\u001b[39;49m\u001b[38;5;124;43mCAPGAIN\u001b[39;49m\u001b[38;5;124;43m\"\u001b[39;49m\u001b[43m,\u001b[49m\u001b[43my\u001b[49m\u001b[38;5;241;43m=\u001b[39;49m\u001b[38;5;124;43m\"\u001b[39;49m\u001b[38;5;124;43mlabel\u001b[39;49m\u001b[38;5;124;43m\"\u001b[39;49m\u001b[43m,\u001b[49m\u001b[43mhue\u001b[49m\u001b[38;5;241;43m=\u001b[39;49m\u001b[38;5;124;43m\"\u001b[39;49m\u001b[38;5;124;43mASEX\u001b[39;49m\u001b[38;5;124;43m\"\u001b[39;49m\u001b[43m,\u001b[49m\u001b[43mkind\u001b[49m\u001b[38;5;241;43m=\u001b[39;49m\u001b[38;5;124;43m'\u001b[39;49m\u001b[38;5;124;43mswarm\u001b[39;49m\u001b[38;5;124;43m'\u001b[39;49m\u001b[43m)\u001b[49m\n",
      "File \u001b[0;32m/opt/conda/lib/python3.11/site-packages/seaborn/categorical.py:2897\u001b[0m, in \u001b[0;36mcatplot\u001b[0;34m(data, x, y, hue, row, col, kind, estimator, errorbar, n_boot, seed, units, weights, order, hue_order, row_order, col_order, col_wrap, height, aspect, log_scale, native_scale, formatter, orient, color, palette, hue_norm, legend, legend_out, sharex, sharey, margin_titles, facet_kws, ci, **kwargs)\u001b[0m\n\u001b[1;32m   2894\u001b[0m     \u001b[38;5;28;01mif\u001b[39;00m plot_kws\u001b[38;5;241m.\u001b[39msetdefault(\u001b[38;5;124m\"\u001b[39m\u001b[38;5;124mlinewidth\u001b[39m\u001b[38;5;124m\"\u001b[39m, \u001b[38;5;241m0\u001b[39m) \u001b[38;5;129;01mis\u001b[39;00m \u001b[38;5;28;01mNone\u001b[39;00m:\n\u001b[1;32m   2895\u001b[0m         plot_kws[\u001b[38;5;124m\"\u001b[39m\u001b[38;5;124mlinewidth\u001b[39m\u001b[38;5;124m\"\u001b[39m] \u001b[38;5;241m=\u001b[39m np\u001b[38;5;241m.\u001b[39msqrt(plot_kws[\u001b[38;5;124m\"\u001b[39m\u001b[38;5;124ms\u001b[39m\u001b[38;5;124m\"\u001b[39m]) \u001b[38;5;241m/\u001b[39m \u001b[38;5;241m10\u001b[39m\n\u001b[0;32m-> 2897\u001b[0m     \u001b[43mp\u001b[49m\u001b[38;5;241;43m.\u001b[39;49m\u001b[43mplot_swarms\u001b[49m\u001b[43m(\u001b[49m\n\u001b[1;32m   2898\u001b[0m \u001b[43m        \u001b[49m\u001b[43mdodge\u001b[49m\u001b[38;5;241;43m=\u001b[39;49m\u001b[43mdodge\u001b[49m\u001b[43m,\u001b[49m\n\u001b[1;32m   2899\u001b[0m \u001b[43m        \u001b[49m\u001b[43mcolor\u001b[49m\u001b[38;5;241;43m=\u001b[39;49m\u001b[43mcolor\u001b[49m\u001b[43m,\u001b[49m\n\u001b[1;32m   2900\u001b[0m \u001b[43m        \u001b[49m\u001b[43mwarn_thresh\u001b[49m\u001b[38;5;241;43m=\u001b[39;49m\u001b[43mwarn_thresh\u001b[49m\u001b[43m,\u001b[49m\n\u001b[1;32m   2901\u001b[0m \u001b[43m        \u001b[49m\u001b[43mplot_kws\u001b[49m\u001b[38;5;241;43m=\u001b[39;49m\u001b[43mplot_kws\u001b[49m\u001b[43m,\u001b[49m\n\u001b[1;32m   2902\u001b[0m \u001b[43m    \u001b[49m\u001b[43m)\u001b[49m\n\u001b[1;32m   2904\u001b[0m \u001b[38;5;28;01melif\u001b[39;00m kind \u001b[38;5;241m==\u001b[39m \u001b[38;5;124m\"\u001b[39m\u001b[38;5;124mbox\u001b[39m\u001b[38;5;124m\"\u001b[39m:\n\u001b[1;32m   2906\u001b[0m     plot_kws \u001b[38;5;241m=\u001b[39m kwargs\u001b[38;5;241m.\u001b[39mcopy()\n",
      "File \u001b[0;32m/opt/conda/lib/python3.11/site-packages/seaborn/categorical.py:588\u001b[0m, in \u001b[0;36m_CategoricalPlotter.plot_swarms\u001b[0;34m(self, dodge, color, warn_thresh, plot_kws)\u001b[0m\n\u001b[1;32m    584\u001b[0m             \u001b[38;5;28msuper\u001b[39m(points\u001b[38;5;241m.\u001b[39m\u001b[38;5;18m__class__\u001b[39m, points)\u001b[38;5;241m.\u001b[39mdraw(renderer)\n\u001b[1;32m    586\u001b[0m         points\u001b[38;5;241m.\u001b[39mdraw \u001b[38;5;241m=\u001b[39m draw\u001b[38;5;241m.\u001b[39m\u001b[38;5;21m__get__\u001b[39m(points)\n\u001b[0;32m--> 588\u001b[0m \u001b[43m_draw_figure\u001b[49m\u001b[43m(\u001b[49m\u001b[43max\u001b[49m\u001b[38;5;241;43m.\u001b[39;49m\u001b[43mfigure\u001b[49m\u001b[43m)\u001b[49m\n\u001b[1;32m    589\u001b[0m \u001b[38;5;28mself\u001b[39m\u001b[38;5;241m.\u001b[39m_configure_legend(ax, _scatter_legend_artist, plot_kws)\n",
      "File \u001b[0;32m/opt/conda/lib/python3.11/site-packages/seaborn/utils.py:61\u001b[0m, in \u001b[0;36m_draw_figure\u001b[0;34m(fig)\u001b[0m\n\u001b[1;32m     59\u001b[0m \u001b[38;5;250m\u001b[39m\u001b[38;5;124;03m\"\"\"Force draw of a matplotlib figure, accounting for back-compat.\"\"\"\u001b[39;00m\n\u001b[1;32m     60\u001b[0m \u001b[38;5;66;03m# See https://github.com/matplotlib/matplotlib/issues/19197 for context\u001b[39;00m\n\u001b[0;32m---> 61\u001b[0m \u001b[43mfig\u001b[49m\u001b[38;5;241;43m.\u001b[39;49m\u001b[43mcanvas\u001b[49m\u001b[38;5;241;43m.\u001b[39;49m\u001b[43mdraw\u001b[49m\u001b[43m(\u001b[49m\u001b[43m)\u001b[49m\n\u001b[1;32m     62\u001b[0m \u001b[38;5;28;01mif\u001b[39;00m fig\u001b[38;5;241m.\u001b[39mstale:\n\u001b[1;32m     63\u001b[0m     \u001b[38;5;28;01mtry\u001b[39;00m:\n",
      "File \u001b[0;32m/opt/conda/lib/python3.11/site-packages/matplotlib/backends/backend_agg.py:387\u001b[0m, in \u001b[0;36mFigureCanvasAgg.draw\u001b[0;34m(self)\u001b[0m\n\u001b[1;32m    384\u001b[0m \u001b[38;5;66;03m# Acquire a lock on the shared font cache.\u001b[39;00m\n\u001b[1;32m    385\u001b[0m \u001b[38;5;28;01mwith\u001b[39;00m (\u001b[38;5;28mself\u001b[39m\u001b[38;5;241m.\u001b[39mtoolbar\u001b[38;5;241m.\u001b[39m_wait_cursor_for_draw_cm() \u001b[38;5;28;01mif\u001b[39;00m \u001b[38;5;28mself\u001b[39m\u001b[38;5;241m.\u001b[39mtoolbar\n\u001b[1;32m    386\u001b[0m       \u001b[38;5;28;01melse\u001b[39;00m nullcontext()):\n\u001b[0;32m--> 387\u001b[0m     \u001b[38;5;28;43mself\u001b[39;49m\u001b[38;5;241;43m.\u001b[39;49m\u001b[43mfigure\u001b[49m\u001b[38;5;241;43m.\u001b[39;49m\u001b[43mdraw\u001b[49m\u001b[43m(\u001b[49m\u001b[38;5;28;43mself\u001b[39;49m\u001b[38;5;241;43m.\u001b[39;49m\u001b[43mrenderer\u001b[49m\u001b[43m)\u001b[49m\n\u001b[1;32m    388\u001b[0m     \u001b[38;5;66;03m# A GUI class may be need to update a window using this draw, so\u001b[39;00m\n\u001b[1;32m    389\u001b[0m     \u001b[38;5;66;03m# don't forget to call the superclass.\u001b[39;00m\n\u001b[1;32m    390\u001b[0m     \u001b[38;5;28msuper\u001b[39m()\u001b[38;5;241m.\u001b[39mdraw()\n",
      "File \u001b[0;32m/opt/conda/lib/python3.11/site-packages/matplotlib/artist.py:95\u001b[0m, in \u001b[0;36m_finalize_rasterization.<locals>.draw_wrapper\u001b[0;34m(artist, renderer, *args, **kwargs)\u001b[0m\n\u001b[1;32m     93\u001b[0m \u001b[38;5;129m@wraps\u001b[39m(draw)\n\u001b[1;32m     94\u001b[0m \u001b[38;5;28;01mdef\u001b[39;00m \u001b[38;5;21mdraw_wrapper\u001b[39m(artist, renderer, \u001b[38;5;241m*\u001b[39margs, \u001b[38;5;241m*\u001b[39m\u001b[38;5;241m*\u001b[39mkwargs):\n\u001b[0;32m---> 95\u001b[0m     result \u001b[38;5;241m=\u001b[39m \u001b[43mdraw\u001b[49m\u001b[43m(\u001b[49m\u001b[43martist\u001b[49m\u001b[43m,\u001b[49m\u001b[43m \u001b[49m\u001b[43mrenderer\u001b[49m\u001b[43m,\u001b[49m\u001b[43m \u001b[49m\u001b[38;5;241;43m*\u001b[39;49m\u001b[43margs\u001b[49m\u001b[43m,\u001b[49m\u001b[43m \u001b[49m\u001b[38;5;241;43m*\u001b[39;49m\u001b[38;5;241;43m*\u001b[39;49m\u001b[43mkwargs\u001b[49m\u001b[43m)\u001b[49m\n\u001b[1;32m     96\u001b[0m     \u001b[38;5;28;01mif\u001b[39;00m renderer\u001b[38;5;241m.\u001b[39m_rasterizing:\n\u001b[1;32m     97\u001b[0m         renderer\u001b[38;5;241m.\u001b[39mstop_rasterizing()\n",
      "File \u001b[0;32m/opt/conda/lib/python3.11/site-packages/matplotlib/artist.py:72\u001b[0m, in \u001b[0;36mallow_rasterization.<locals>.draw_wrapper\u001b[0;34m(artist, renderer)\u001b[0m\n\u001b[1;32m     69\u001b[0m     \u001b[38;5;28;01mif\u001b[39;00m artist\u001b[38;5;241m.\u001b[39mget_agg_filter() \u001b[38;5;129;01mis\u001b[39;00m \u001b[38;5;129;01mnot\u001b[39;00m \u001b[38;5;28;01mNone\u001b[39;00m:\n\u001b[1;32m     70\u001b[0m         renderer\u001b[38;5;241m.\u001b[39mstart_filter()\n\u001b[0;32m---> 72\u001b[0m     \u001b[38;5;28;01mreturn\u001b[39;00m \u001b[43mdraw\u001b[49m\u001b[43m(\u001b[49m\u001b[43martist\u001b[49m\u001b[43m,\u001b[49m\u001b[43m \u001b[49m\u001b[43mrenderer\u001b[49m\u001b[43m)\u001b[49m\n\u001b[1;32m     73\u001b[0m \u001b[38;5;28;01mfinally\u001b[39;00m:\n\u001b[1;32m     74\u001b[0m     \u001b[38;5;28;01mif\u001b[39;00m artist\u001b[38;5;241m.\u001b[39mget_agg_filter() \u001b[38;5;129;01mis\u001b[39;00m \u001b[38;5;129;01mnot\u001b[39;00m \u001b[38;5;28;01mNone\u001b[39;00m:\n",
      "File \u001b[0;32m/opt/conda/lib/python3.11/site-packages/matplotlib/figure.py:3162\u001b[0m, in \u001b[0;36mFigure.draw\u001b[0;34m(self, renderer)\u001b[0m\n\u001b[1;32m   3159\u001b[0m             \u001b[38;5;66;03m# ValueError can occur when resizing a window.\u001b[39;00m\n\u001b[1;32m   3161\u001b[0m     \u001b[38;5;28mself\u001b[39m\u001b[38;5;241m.\u001b[39mpatch\u001b[38;5;241m.\u001b[39mdraw(renderer)\n\u001b[0;32m-> 3162\u001b[0m     \u001b[43mmimage\u001b[49m\u001b[38;5;241;43m.\u001b[39;49m\u001b[43m_draw_list_compositing_images\u001b[49m\u001b[43m(\u001b[49m\n\u001b[1;32m   3163\u001b[0m \u001b[43m        \u001b[49m\u001b[43mrenderer\u001b[49m\u001b[43m,\u001b[49m\u001b[43m \u001b[49m\u001b[38;5;28;43mself\u001b[39;49m\u001b[43m,\u001b[49m\u001b[43m \u001b[49m\u001b[43martists\u001b[49m\u001b[43m,\u001b[49m\u001b[43m \u001b[49m\u001b[38;5;28;43mself\u001b[39;49m\u001b[38;5;241;43m.\u001b[39;49m\u001b[43msuppressComposite\u001b[49m\u001b[43m)\u001b[49m\n\u001b[1;32m   3165\u001b[0m     renderer\u001b[38;5;241m.\u001b[39mclose_group(\u001b[38;5;124m'\u001b[39m\u001b[38;5;124mfigure\u001b[39m\u001b[38;5;124m'\u001b[39m)\n\u001b[1;32m   3166\u001b[0m \u001b[38;5;28;01mfinally\u001b[39;00m:\n",
      "File \u001b[0;32m/opt/conda/lib/python3.11/site-packages/matplotlib/image.py:132\u001b[0m, in \u001b[0;36m_draw_list_compositing_images\u001b[0;34m(renderer, parent, artists, suppress_composite)\u001b[0m\n\u001b[1;32m    130\u001b[0m \u001b[38;5;28;01mif\u001b[39;00m not_composite \u001b[38;5;129;01mor\u001b[39;00m \u001b[38;5;129;01mnot\u001b[39;00m has_images:\n\u001b[1;32m    131\u001b[0m     \u001b[38;5;28;01mfor\u001b[39;00m a \u001b[38;5;129;01min\u001b[39;00m artists:\n\u001b[0;32m--> 132\u001b[0m         \u001b[43ma\u001b[49m\u001b[38;5;241;43m.\u001b[39;49m\u001b[43mdraw\u001b[49m\u001b[43m(\u001b[49m\u001b[43mrenderer\u001b[49m\u001b[43m)\u001b[49m\n\u001b[1;32m    133\u001b[0m \u001b[38;5;28;01melse\u001b[39;00m:\n\u001b[1;32m    134\u001b[0m     \u001b[38;5;66;03m# Composite any adjacent images together\u001b[39;00m\n\u001b[1;32m    135\u001b[0m     image_group \u001b[38;5;241m=\u001b[39m []\n",
      "File \u001b[0;32m/opt/conda/lib/python3.11/site-packages/matplotlib/artist.py:72\u001b[0m, in \u001b[0;36mallow_rasterization.<locals>.draw_wrapper\u001b[0;34m(artist, renderer)\u001b[0m\n\u001b[1;32m     69\u001b[0m     \u001b[38;5;28;01mif\u001b[39;00m artist\u001b[38;5;241m.\u001b[39mget_agg_filter() \u001b[38;5;129;01mis\u001b[39;00m \u001b[38;5;129;01mnot\u001b[39;00m \u001b[38;5;28;01mNone\u001b[39;00m:\n\u001b[1;32m     70\u001b[0m         renderer\u001b[38;5;241m.\u001b[39mstart_filter()\n\u001b[0;32m---> 72\u001b[0m     \u001b[38;5;28;01mreturn\u001b[39;00m \u001b[43mdraw\u001b[49m\u001b[43m(\u001b[49m\u001b[43martist\u001b[49m\u001b[43m,\u001b[49m\u001b[43m \u001b[49m\u001b[43mrenderer\u001b[49m\u001b[43m)\u001b[49m\n\u001b[1;32m     73\u001b[0m \u001b[38;5;28;01mfinally\u001b[39;00m:\n\u001b[1;32m     74\u001b[0m     \u001b[38;5;28;01mif\u001b[39;00m artist\u001b[38;5;241m.\u001b[39mget_agg_filter() \u001b[38;5;129;01mis\u001b[39;00m \u001b[38;5;129;01mnot\u001b[39;00m \u001b[38;5;28;01mNone\u001b[39;00m:\n",
      "File \u001b[0;32m/opt/conda/lib/python3.11/site-packages/matplotlib/axes/_base.py:3137\u001b[0m, in \u001b[0;36m_AxesBase.draw\u001b[0;34m(self, renderer)\u001b[0m\n\u001b[1;32m   3134\u001b[0m \u001b[38;5;28;01mif\u001b[39;00m artists_rasterized:\n\u001b[1;32m   3135\u001b[0m     _draw_rasterized(\u001b[38;5;28mself\u001b[39m\u001b[38;5;241m.\u001b[39mfigure, artists_rasterized, renderer)\n\u001b[0;32m-> 3137\u001b[0m \u001b[43mmimage\u001b[49m\u001b[38;5;241;43m.\u001b[39;49m\u001b[43m_draw_list_compositing_images\u001b[49m\u001b[43m(\u001b[49m\n\u001b[1;32m   3138\u001b[0m \u001b[43m    \u001b[49m\u001b[43mrenderer\u001b[49m\u001b[43m,\u001b[49m\u001b[43m \u001b[49m\u001b[38;5;28;43mself\u001b[39;49m\u001b[43m,\u001b[49m\u001b[43m \u001b[49m\u001b[43martists\u001b[49m\u001b[43m,\u001b[49m\u001b[43m \u001b[49m\u001b[38;5;28;43mself\u001b[39;49m\u001b[38;5;241;43m.\u001b[39;49m\u001b[43mfigure\u001b[49m\u001b[38;5;241;43m.\u001b[39;49m\u001b[43msuppressComposite\u001b[49m\u001b[43m)\u001b[49m\n\u001b[1;32m   3140\u001b[0m renderer\u001b[38;5;241m.\u001b[39mclose_group(\u001b[38;5;124m'\u001b[39m\u001b[38;5;124maxes\u001b[39m\u001b[38;5;124m'\u001b[39m)\n\u001b[1;32m   3141\u001b[0m \u001b[38;5;28mself\u001b[39m\u001b[38;5;241m.\u001b[39mstale \u001b[38;5;241m=\u001b[39m \u001b[38;5;28;01mFalse\u001b[39;00m\n",
      "File \u001b[0;32m/opt/conda/lib/python3.11/site-packages/matplotlib/image.py:132\u001b[0m, in \u001b[0;36m_draw_list_compositing_images\u001b[0;34m(renderer, parent, artists, suppress_composite)\u001b[0m\n\u001b[1;32m    130\u001b[0m \u001b[38;5;28;01mif\u001b[39;00m not_composite \u001b[38;5;129;01mor\u001b[39;00m \u001b[38;5;129;01mnot\u001b[39;00m has_images:\n\u001b[1;32m    131\u001b[0m     \u001b[38;5;28;01mfor\u001b[39;00m a \u001b[38;5;129;01min\u001b[39;00m artists:\n\u001b[0;32m--> 132\u001b[0m         \u001b[43ma\u001b[49m\u001b[38;5;241;43m.\u001b[39;49m\u001b[43mdraw\u001b[49m\u001b[43m(\u001b[49m\u001b[43mrenderer\u001b[49m\u001b[43m)\u001b[49m\n\u001b[1;32m    133\u001b[0m \u001b[38;5;28;01melse\u001b[39;00m:\n\u001b[1;32m    134\u001b[0m     \u001b[38;5;66;03m# Composite any adjacent images together\u001b[39;00m\n\u001b[1;32m    135\u001b[0m     image_group \u001b[38;5;241m=\u001b[39m []\n",
      "File \u001b[0;32m/opt/conda/lib/python3.11/site-packages/seaborn/categorical.py:566\u001b[0m, in \u001b[0;36m_CategoricalPlotter.plot_swarms.<locals>.draw\u001b[0;34m(points, renderer, center)\u001b[0m\n\u001b[1;32m    564\u001b[0m \u001b[38;5;28;01mdef\u001b[39;00m \u001b[38;5;21mdraw\u001b[39m(points, renderer, \u001b[38;5;241m*\u001b[39m, center\u001b[38;5;241m=\u001b[39mcenter):\n\u001b[0;32m--> 566\u001b[0m     \u001b[43mbeeswarm\u001b[49m\u001b[43m(\u001b[49m\u001b[43mpoints\u001b[49m\u001b[43m,\u001b[49m\u001b[43m \u001b[49m\u001b[43mcenter\u001b[49m\u001b[43m)\u001b[49m\n\u001b[1;32m    568\u001b[0m     \u001b[38;5;28;01mif\u001b[39;00m \u001b[38;5;28mself\u001b[39m\u001b[38;5;241m.\u001b[39morient \u001b[38;5;241m==\u001b[39m \u001b[38;5;124m\"\u001b[39m\u001b[38;5;124my\u001b[39m\u001b[38;5;124m\"\u001b[39m:\n\u001b[1;32m    569\u001b[0m         scalex \u001b[38;5;241m=\u001b[39m \u001b[38;5;28;01mFalse\u001b[39;00m\n",
      "File \u001b[0;32m/opt/conda/lib/python3.11/site-packages/seaborn/categorical.py:3263\u001b[0m, in \u001b[0;36mBeeswarm.__call__\u001b[0;34m(self, points, center)\u001b[0m\n\u001b[1;32m   3261\u001b[0m \u001b[38;5;66;03m# Adjust points along the categorical axis to prevent overlaps\u001b[39;00m\n\u001b[1;32m   3262\u001b[0m new_xyr \u001b[38;5;241m=\u001b[39m np\u001b[38;5;241m.\u001b[39mempty_like(orig_xyr)\n\u001b[0;32m-> 3263\u001b[0m new_xyr[sorter] \u001b[38;5;241m=\u001b[39m \u001b[38;5;28;43mself\u001b[39;49m\u001b[38;5;241;43m.\u001b[39;49m\u001b[43mbeeswarm\u001b[49m\u001b[43m(\u001b[49m\u001b[43morig_xyr\u001b[49m\u001b[43m)\u001b[49m\n\u001b[1;32m   3265\u001b[0m \u001b[38;5;66;03m# Transform the point coordinates back to data coordinates\u001b[39;00m\n\u001b[1;32m   3266\u001b[0m \u001b[38;5;28;01mif\u001b[39;00m \u001b[38;5;28mself\u001b[39m\u001b[38;5;241m.\u001b[39morient \u001b[38;5;241m==\u001b[39m \u001b[38;5;124m\"\u001b[39m\u001b[38;5;124my\u001b[39m\u001b[38;5;124m\"\u001b[39m:\n",
      "File \u001b[0;32m/opt/conda/lib/python3.11/site-packages/seaborn/categorical.py:3310\u001b[0m, in \u001b[0;36mBeeswarm.beeswarm\u001b[0;34m(self, orig_xyr)\u001b[0m\n\u001b[1;32m   3307\u001b[0m candidates \u001b[38;5;241m=\u001b[39m candidates[np\u001b[38;5;241m.\u001b[39margsort(offsets)]\n\u001b[1;32m   3309\u001b[0m \u001b[38;5;66;03m# Find the first candidate that does not overlap any neighbors\u001b[39;00m\n\u001b[0;32m-> 3310\u001b[0m new_xyr_i \u001b[38;5;241m=\u001b[39m \u001b[38;5;28;43mself\u001b[39;49m\u001b[38;5;241;43m.\u001b[39;49m\u001b[43mfirst_non_overlapping_candidate\u001b[49m\u001b[43m(\u001b[49m\u001b[43mcandidates\u001b[49m\u001b[43m,\u001b[49m\u001b[43m \u001b[49m\u001b[43mneighbors\u001b[49m\u001b[43m)\u001b[49m\n\u001b[1;32m   3312\u001b[0m \u001b[38;5;66;03m# Place it into the swarm\u001b[39;00m\n\u001b[1;32m   3313\u001b[0m swarm \u001b[38;5;241m=\u001b[39m np\u001b[38;5;241m.\u001b[39mvstack([swarm, new_xyr_i])\n",
      "File \u001b[0;32m/opt/conda/lib/python3.11/site-packages/seaborn/categorical.py:3367\u001b[0m, in \u001b[0;36mBeeswarm.first_non_overlapping_candidate\u001b[0;34m(self, candidates, neighbors)\u001b[0m\n\u001b[1;32m   3364\u001b[0m dy \u001b[38;5;241m=\u001b[39m neighbors_y \u001b[38;5;241m-\u001b[39m y_i\n\u001b[1;32m   3365\u001b[0m sq_distances \u001b[38;5;241m=\u001b[39m np\u001b[38;5;241m.\u001b[39msquare(dx) \u001b[38;5;241m+\u001b[39m np\u001b[38;5;241m.\u001b[39msquare(dy)\n\u001b[0;32m-> 3367\u001b[0m sep_needed \u001b[38;5;241m=\u001b[39m \u001b[43mnp\u001b[49m\u001b[38;5;241;43m.\u001b[39;49m\u001b[43msquare\u001b[49m\u001b[43m(\u001b[49m\u001b[43mneighbors_r\u001b[49m\u001b[43m \u001b[49m\u001b[38;5;241;43m+\u001b[39;49m\u001b[43m \u001b[49m\u001b[43mr_i\u001b[49m\u001b[43m)\u001b[49m\n\u001b[1;32m   3369\u001b[0m \u001b[38;5;66;03m# Good candidate does not overlap any of neighbors which means that\u001b[39;00m\n\u001b[1;32m   3370\u001b[0m \u001b[38;5;66;03m# squared distance between candidate and any of the neighbors has\u001b[39;00m\n\u001b[1;32m   3371\u001b[0m \u001b[38;5;66;03m# to be at least square of the summed radii\u001b[39;00m\n\u001b[1;32m   3372\u001b[0m good_candidate \u001b[38;5;241m=\u001b[39m np\u001b[38;5;241m.\u001b[39mall(sq_distances \u001b[38;5;241m>\u001b[39m\u001b[38;5;241m=\u001b[39m sep_needed)\n",
      "\u001b[0;31mKeyboardInterrupt\u001b[0m: "
     ]
    }
   ],
   "source": [
    "sns.catplot(X,x=\"CAPGAIN\",y=\"label\",hue=\"ASEX\",kind='swarm') # WHY DO YOU TAKE SO LONG"
   ]
  },
  {
   "cell_type": "code",
   "execution_count": null,
   "id": "4c7a4d9c-87fb-4de5-bc1b-afb87e411d63",
   "metadata": {},
   "outputs": [],
   "source": [
    "sns.catplot(X,x=\"CAPGAIN\",y=\"label\",hue=\"ASEX\")"
   ]
  },
  {
   "cell_type": "code",
   "execution_count": 64,
   "id": "2056854c-5930-4b6d-a4bf-6aec9a682f7e",
   "metadata": {},
   "outputs": [],
   "source": []
  },
  {
   "cell_type": "code",
   "execution_count": null,
   "id": "437b7490-9de7-4766-9c81-b33a75766bd8",
   "metadata": {},
   "outputs": [],
   "source": []
  }
 ],
 "metadata": {
  "kernelspec": {
   "display_name": "Python 3 (ipykernel)",
   "language": "python",
   "name": "python3"
  },
  "language_info": {
   "codemirror_mode": {
    "name": "ipython",
    "version": 3
   },
   "file_extension": ".py",
   "mimetype": "text/x-python",
   "name": "python",
   "nbconvert_exporter": "python",
   "pygments_lexer": "ipython3",
   "version": "3.11.9"
  }
 },
 "nbformat": 4,
 "nbformat_minor": 5
}
